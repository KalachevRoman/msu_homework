{
  "cells": [
    {
      "cell_type": "markdown",
      "source": [
        "<a href=\"https://colab.research.google.com/drive/1Nx_klyuwQfMlq_v3woczmeeI3ZKiSdvY?usp=sharing\" target=\"_parent\"><img src=\"https://colab.research.google.com/assets/colab-badge.svg\" alt=\"Open In Colab\"/></a>"
      ],
      "metadata": {
        "id": "BPnoMGlR4rUB"
      }
    },
    {
      "cell_type": "markdown",
      "metadata": {
        "id": "xw8BD8v2oBGj"
      },
      "source": [
        "# Homework"
      ]
    },
    {
      "cell_type": "markdown",
      "metadata": {
        "id": "sSos7q2_oBGj"
      },
      "source": [
        "## Problem 1"
      ]
    },
    {
      "cell_type": "markdown",
      "metadata": {
        "id": "NiX8ePp0oBGk"
      },
      "source": [
        "Make a tuple containing natural numbers, the square of which is a multiple of 3, 4, but not a multiple of 8 and not exceeding 12345."
      ]
    },
    {
      "cell_type": "code",
      "execution_count": 1,
      "metadata": {
        "id": "XmPHEnS9oBGk",
        "colab": {
          "base_uri": "https://localhost:8080/"
        },
        "outputId": "2e469095-22ae-4daa-ffb3-5e99f40c6616"
      },
      "outputs": [
        {
          "output_type": "stream",
          "name": "stdout",
          "text": [
            "(6, 18, 30, 42, 54, 66, 78, 90, 102)\n"
          ]
        }
      ],
      "source": [
        "limit = 12345\n",
        "\n",
        "# Функция для проверки условий\n",
        "# Возвращает True, если условия выполняются\n",
        "def chek(n):\n",
        "    return n**2 % 3 == 0 and n**2 % 4 == 0 and n**2 % 8 != 0 and n**2 <= 12345\n",
        "\n",
        "# Проверяем все числа от 1 до 12345+1 на условие и формируем кортеж\n",
        "valid_numbers = tuple(n for n in range(1, limit + 1) if chek(n))\n",
        "\n",
        "print(valid_numbers)"
      ]
    },
    {
      "cell_type": "markdown",
      "metadata": {
        "id": "OZBeUyxcoBGk"
      },
      "source": [
        "## Problem 2"
      ]
    },
    {
      "cell_type": "markdown",
      "metadata": {
        "id": "zIfvg22noBGk"
      },
      "source": [
        "\n",
        "Write a function that takes a two-dimensional array and a string as input and returns an array rotated 90 degrees counterclockwise if the string 'left' was passed, and clockwise if the string 'right' was passed.\n",
        "\n",
        "Example for input: $\\begin{bmatrix} 1 & 2 & 3 \\\\ 4 & 5 & 6 \\\\ 7 & 8 & 9 \\end{bmatrix}$.\\\n",
        "If the string 'left' is passed, the function should return $\\begin{bmatrix} 3 & 6 & 9 \\\\ 2 & 5 & 8 \\\\ 1 & 4 & 7 \\end{bmatrix}$, and if the string 'right' is passed, the function should return $\\begin{bmatrix} 7 & 4 & 1 \\\\ 8 & 5 & 2 \\\\ 9 & 6 & 3 \\end{bmatrix}$."
      ]
    },
    {
      "cell_type": "code",
      "execution_count": null,
      "metadata": {
        "id": "HNvy_cRjoBGk"
      },
      "outputs": [],
      "source": [
        "def rot_matrix(matrix, direction):                          #функция поворота матрицы\n",
        "    if direction == \"left\":                                    #поворот против часовой стрелки\n",
        "        return [list(row) for row in zip(*matrix[::-1])]       #меняем порядок строк на обратный -> разбиваем матрицу на 3 отдельных списка c помощью * ->\n",
        "                                                               #объединяем элементы отдельных списков в кортежи с помощью zip -> преобразуем кортежи в списки\n",
        "    elif direction == \"right\":                                 #поворот по часовой стрелке\n",
        "        return [list(row) for row in zip(*matrix)][::-1]       #аналогично, но меняется порядок дейтсвий"
      ]
    },
    {
      "cell_type": "markdown",
      "metadata": {
        "id": "_dY-PFlCoBGk"
      },
      "source": [
        "## Problem 3"
      ]
    },
    {
      "cell_type": "markdown",
      "metadata": {
        "id": "3CaIwcm0oBGk"
      },
      "source": [
        "Write a function that takes a string as input and returns a dictionary containing the number of occurrences of each character in the string.\n",
        "\n",
        "Example for the string 'hello, world!': {'h': 1, 'e': 1, 'l': 3, 'o': 2, ',': 1, ' ': 1, 'w': 1, 'r': 1, 'd': 1, '!': 1}."
      ]
    },
    {
      "cell_type": "code",
      "execution_count": null,
      "metadata": {
        "id": "rlSbHusZoBGk"
      },
      "outputs": [],
      "source": [
        "def count(input_string):\n",
        "    char_count = {}                          #создаем пустой словарь\n",
        "    for char in input_string:\n",
        "        if char in char_count:\n",
        "            char_count[char] += 1            #если символ уже есть в словаре, увеличиваем его счетчик, обращаясь по ключу\n",
        "        else:\n",
        "            char_count[char] = 1             #счетчик впервые встретившегося символа = 1\n",
        "    return char_count"
      ]
    },
    {
      "cell_type": "markdown",
      "metadata": {
        "id": "KBGJ7PeboBGk"
      },
      "source": [
        "## Problem 4"
      ]
    },
    {
      "cell_type": "markdown",
      "metadata": {
        "id": "XS4Seqa9oBGk"
      },
      "source": [
        "### Implementing a Library Management System\n",
        "\n",
        "#### Description\n",
        "\n",
        "You are required to design and implement a system for managing books and users in a library. The system should allow for the management of books (adding, deleting, searching by various criteria) and users (registration, deletion, searching), as well as tracking the history of interactions between them (issuing and returning books).\n",
        "\n",
        "#### Tasks\n",
        "\n",
        "1. **`Book` Class**:\n",
        "   - Attributes: title, author, year of publication, ISBN, number of copies.\n",
        "   - Methods: constructor, methods to get information about the book, method to change the number of copies (when issuing and returning books).\n",
        "\n",
        "2. **`User` Class**:\n",
        "   - Attributes: user name, library card number, list of borrowed books.\n",
        "   - Methods: constructor, methods for user registration, methods for adding and removing books from the borrowed list.\n",
        "\n",
        "3. **`Library` Class**:\n",
        "   - Attributes: list of books, list of users, transaction history (who, when, which book was borrowed and returned).\n",
        "   - Methods: constructor, methods for adding and deleting books and users, methods for issuing and returning books, searching for books and users by various criteria, method to display the transaction history.\n",
        "\n",
        "#### Assignment\n",
        "\n",
        "1. Implement the `Book`, `User`, and `Library` classes with the specified attributes and methods.\n",
        "2. Create several books and users, and add them to the library system.\n",
        "3. Implement scenarios for issuing books to users and their return.\n",
        "4. Display the transaction history to show how books were issued and returned.\n"
      ]
    },
    {
      "cell_type": "code",
      "execution_count": null,
      "metadata": {
        "id": "IbqwtWWsoBGl"
      },
      "outputs": [],
      "source": [
        "class Book:\n",
        "  #конструктор\n",
        "  def __init__(self, title, author, year_of_publication, ISBN, number_of_copies):\n",
        "    self.title = title\n",
        "    self.author = author\n",
        "    self.year_of_publication = year_of_publication\n",
        "    self.ISBN = ISBN\n",
        "    self.number_of_copies = number_of_copies\n",
        "    print(f\"Book {title} created\")\n",
        "  #информация о книге\n",
        "  def get_info(self):\n",
        "    return f\"title: {self.title}, author: {self.author}, year_of_publication: {self.year_of_publication},  ISBN: {self.ISBN}, number_of_copies: {self.number_of_copie}\"\n",
        "  #изменение кол-ва эксземпляров\n",
        "  def change_copies(self, change):\n",
        "    self.number_of_copies += change\n",
        "\n",
        "\n",
        "class User:\n",
        "  #конструктор\n",
        "  def __init__(self, user_name, library_card_number):\n",
        "    self.user_name = user_name\n",
        "    self.library_card_number = library_card_number\n",
        "    self.list_of_borrowed_books = []\n",
        "    print(f\"User {user_name} created\")\n",
        "\n",
        "  #регистрация\n",
        "  def user_registration(name, card_number):\n",
        "    print(f\"User {name} with card number {card_number} registered.\")\n",
        "    return User(name, card_number)\n",
        "\n",
        "  #получение книги\n",
        "  def add(self, book):\n",
        "        if book.number_of_copies  > 0:\n",
        "            book.change_copies(-1)\n",
        "            self.list_of_borrowed_books.append(book)\n",
        "            return True\n",
        "        return False\n",
        "  #сдача книги\n",
        "  def remove_book(self, book):\n",
        "        if book in self.list_of_borrowed_books:\n",
        "            book.change_copies(1)\n",
        "            self.list_of_borrowed_books.remove(book)\n",
        "            return True\n",
        "        return False\n",
        "\n",
        "class Library:\n",
        "  #конструктор\n",
        "  def __init__(self):\n",
        "    self.list_of_books = []\n",
        "    self.list_of_users = []\n",
        "    self.transaction_history = []\n",
        "    print(\"Library created\")\n",
        "\n",
        "  #добавление/удаление книг/пользователей\n",
        "  def add_book(self, book):\n",
        "    self.list_of_books.append(book)\n",
        "\n",
        "  def delete_book(self, book):\n",
        "    if book in self.list_of_books:\n",
        "      self.list_of_books.remove(book)\n",
        "\n",
        "  def add_user(self, user):\n",
        "    self.list_of_users.append(user)\n",
        "\n",
        "  def delete_user(self, user):\n",
        "    if user in self.list_of_users:\n",
        "      self.list_of_users.remove(user)\n",
        "\n",
        "  #посик книги/пользователя\n",
        "  def search_book_by_title(self, title):\n",
        "    return [book for book in self.list_of_books if title in book.title]\n",
        "\n",
        "  def search_book_by_isbn(self, isbn):\n",
        "    return [book for book in self.list_of_books if ISBN in book.ISBN]\n",
        "\n",
        "  def search_user_by_name(self, name):\n",
        "    return [user for user in self.list_of_users if user_name in user.user_name]\n",
        "\n",
        "  #информация о приеме книги\n",
        "  def get_book(self, user, book):\n",
        "    user.remove_book(book)\n",
        "    self.transaction_history.append(f\"User {user.user_name} remove {book.title}\")\n",
        "\n",
        "  #информация о сдаче книги\n",
        "  def drop_book(self, user, book):\n",
        "    if user.add(book):\n",
        "      self.transaction_history.append(f\"User {user.user_name} add {book.title}\")\n",
        "      return True\n",
        "    return False\n",
        "\n",
        "  #история транзакций\n",
        "  def display_transaction_history(self):\n",
        "    for record in self.transaction_history:\n",
        "        print(record)"
      ]
    },
    {
      "cell_type": "code",
      "source": [
        "#сценарий\n",
        "\n",
        "#создание пользователей\n",
        "user_0 = User(\"Roman\", \"777\")\n",
        "user_1 = User(\"Nikolay\", \"001\")\n",
        "\n",
        "#создание книг\n",
        "book_0 = Book(\"War and Peace\", \"Leo Tolstoy\", 1867, \"32748956\", 2)\n",
        "book_1 = Book(\"The Brothers Karamazov\", \"Fyodor Dostoevsky\", 1880, \"238756837\", 1)\n",
        "\n",
        "#создание библиотеки\n",
        "library = Library()\n",
        "\n",
        "#добавление пользователей и книг в библиотеку\n",
        "library.add_user(user_0)\n",
        "library.add_user(user_1)\n",
        "\n",
        "library.add_book(book_0)\n",
        "library.add_book(book_1)\n",
        "\n",
        "#действие пользователей\n",
        "library.drop_book(user_0, book_1)\n",
        "library.drop_book(user_1, book_0)\n",
        "library.get_book(user_0, book_1)\n",
        "library.drop_book(user_1, book_1)\n",
        "\n",
        "#история транзакций\n",
        "library.display_transaction_history()"
      ],
      "metadata": {
        "colab": {
          "base_uri": "https://localhost:8080/"
        },
        "id": "QF3jZyRbAtB5",
        "outputId": "b9fb43b7-2dd5-4ba6-8d5a-ca1bd7838df7"
      },
      "execution_count": null,
      "outputs": [
        {
          "output_type": "stream",
          "name": "stdout",
          "text": [
            "User Roman created\n",
            "User Nikolay created\n",
            "Book War and Peace created\n",
            "Book The Brothers Karamazov created\n",
            "Library created\n",
            "User Roman add The Brothers Karamazov\n",
            "User Nikolay add War and Peace\n",
            "User Roman remove The Brothers Karamazov\n",
            "User Nikolay add The Brothers Karamazov\n"
          ]
        }
      ]
    },
    {
      "cell_type": "markdown",
      "metadata": {
        "id": "0c8zRbSIoBGl"
      },
      "source": [
        "## Problem 5*"
      ]
    },
    {
      "cell_type": "markdown",
      "metadata": {
        "id": "8ltdzRmOoBGl"
      },
      "source": [
        "Explain why list `b` changes after the execution of the following code:\n",
        "\n",
        "```python\n",
        "a = [1, 2, 3]\n",
        "b = a\n",
        "a[0] = 4\n",
        "print(b)\n",
        "```"
      ]
    },
    {
      "cell_type": "markdown",
      "metadata": {
        "id": "RxgnUfFPoBGl"
      },
      "source": [
        "Потому что b является сслыкой на лист a. При изменении a меняется и b"
      ]
    },
    {
      "cell_type": "markdown",
      "metadata": {
        "id": "Mb-amOX5oBGl"
      },
      "source": []
    },
    {
      "cell_type": "markdown",
      "metadata": {
        "id": "TmXLkc_foBGl"
      },
      "source": [
        "## Problem 6*"
      ]
    },
    {
      "cell_type": "markdown",
      "metadata": {
        "id": "Gn0ibiVCoBGl"
      },
      "source": [
        "Let\n",
        "$$A = \\sum_{i=1}^{10000} \\frac{1}{i^2},\\quad B=\\sum_{i=10000}^{1} \\frac{1}{i^2}.$$\n",
        "Calculate the values of $A$ and $B$ and compare them. What do you observe? Explain why this happens. What is the best way to calculate the value of $\\sum\\limits_{i=1}^{10000} \\dfrac{1}{i^2}$?"
      ]
    },
    {
      "cell_type": "code",
      "execution_count": null,
      "metadata": {
        "id": "3q93uGqFoBGl",
        "colab": {
          "base_uri": "https://localhost:8080/"
        },
        "outputId": "ca8378a8-e655-4a1c-f8ee-2823ae1eaf49"
      },
      "outputs": [
        {
          "output_type": "stream",
          "name": "stdout",
          "text": [
            "1.6448340718480652\n",
            "1.6448340718480596\n"
          ]
        }
      ],
      "source": [
        "a = sum(1 / i**2 for i in range(1, 10001))\n",
        "b = sum(1 / i**2 for i in range(10000, 0, -1))\n",
        "print(a)\n",
        "print(b)"
      ]
    },
    {
      "cell_type": "markdown",
      "source": [
        "Значения отиличаются из-за округления числа с плавающей точкой при подсчете суммы. В этом случае будет лучше использовать второй вариант вычисления, так как суммирование идет от наименьшего к наибольшему и маленькие числа не теряются"
      ],
      "metadata": {
        "id": "ddwk-jF3CO52"
      }
    },
    {
      "cell_type": "code",
      "source": [],
      "metadata": {
        "id": "ajGUNzIYCG_5"
      },
      "execution_count": null,
      "outputs": []
    }
  ],
  "metadata": {
    "colab": {
      "provenance": []
    },
    "kernelspec": {
      "display_name": "Python 3",
      "language": "python",
      "name": "python3"
    },
    "language_info": {
      "codemirror_mode": {
        "name": "ipython",
        "version": 3
      },
      "file_extension": ".py",
      "mimetype": "text/x-python",
      "name": "python",
      "nbconvert_exporter": "python",
      "pygments_lexer": "ipython3",
      "version": "3.10.6"
    }
  },
  "nbformat": 4,
  "nbformat_minor": 0
}