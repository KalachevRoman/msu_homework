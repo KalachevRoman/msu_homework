{
  "cells": [
    {
      "cell_type": "markdown",
      "source": [
        "<a href=\"https://colab.research.google.com/drive/1Nx_klyuwQfMlq_v3woczmeeI3ZKiSdvY?usp=sharing\" target=\"_parent\"><img src=\"https://colab.research.google.com/assets/colab-badge.svg\" alt=\"Open In Colab\"/></a>"
      ],
      "metadata": {
        "id": "BPnoMGlR4rUB"
      }
    },
    {
      "cell_type": "markdown",
      "metadata": {
        "id": "xw8BD8v2oBGj"
      },
      "source": [
        "# Homework"
      ]
    },
    {
      "cell_type": "markdown",
      "metadata": {
        "id": "sSos7q2_oBGj"
      },
      "source": [
        "## Problem 1"
      ]
    },
    {
      "cell_type": "markdown",
      "metadata": {
        "id": "NiX8ePp0oBGk"
      },
      "source": [
        "Make a tuple containing natural numbers, the square of which is a multiple of 3, 4, but not a multiple of 8 and not exceeding 12345."
      ]
    },
    {
      "cell_type": "code",
      "execution_count": null,
      "metadata": {
        "id": "XmPHEnS9oBGk",
        "colab": {
          "base_uri": "https://localhost:8080/"
        },
        "outputId": "c30938f1-3016-4849-c7cd-0eac96399dc4"
      },
      "outputs": [
        {
          "output_type": "stream",
          "name": "stdout",
          "text": [
            "(6, 18, 30, 42, 54, 66, 78, 90, 102, 114, 126, 138, 150, 162, 174, 186, 198, 210, 222, 234, 246, 258, 270, 282, 294, 306, 318, 330, 342, 354, 366, 378, 390, 402, 414, 426, 438, 450, 462, 474, 486, 498, 510, 522, 534, 546, 558, 570, 582, 594, 606, 618, 630, 642, 654, 666, 678, 690, 702, 714, 726, 738, 750, 762, 774, 786, 798, 810, 822, 834, 846, 858, 870, 882, 894, 906, 918, 930, 942, 954, 966, 978, 990, 1002, 1014, 1026, 1038, 1050, 1062, 1074, 1086, 1098, 1110, 1122, 1134, 1146, 1158, 1170, 1182, 1194, 1206, 1218, 1230, 1242, 1254, 1266, 1278, 1290, 1302, 1314, 1326, 1338, 1350, 1362, 1374, 1386, 1398, 1410, 1422, 1434, 1446, 1458, 1470, 1482, 1494, 1506, 1518, 1530, 1542, 1554, 1566, 1578, 1590, 1602, 1614, 1626, 1638, 1650, 1662, 1674, 1686, 1698, 1710, 1722, 1734, 1746, 1758, 1770, 1782, 1794, 1806, 1818, 1830, 1842, 1854, 1866, 1878, 1890, 1902, 1914, 1926, 1938, 1950, 1962, 1974, 1986, 1998, 2010, 2022, 2034, 2046, 2058, 2070, 2082, 2094, 2106, 2118, 2130, 2142, 2154, 2166, 2178, 2190, 2202, 2214, 2226, 2238, 2250, 2262, 2274, 2286, 2298, 2310, 2322, 2334, 2346, 2358, 2370, 2382, 2394, 2406, 2418, 2430, 2442, 2454, 2466, 2478, 2490, 2502, 2514, 2526, 2538, 2550, 2562, 2574, 2586, 2598, 2610, 2622, 2634, 2646, 2658, 2670, 2682, 2694, 2706, 2718, 2730, 2742, 2754, 2766, 2778, 2790, 2802, 2814, 2826, 2838, 2850, 2862, 2874, 2886, 2898, 2910, 2922, 2934, 2946, 2958, 2970, 2982, 2994, 3006, 3018, 3030, 3042, 3054, 3066, 3078, 3090, 3102, 3114, 3126, 3138, 3150, 3162, 3174, 3186, 3198, 3210, 3222, 3234, 3246, 3258, 3270, 3282, 3294, 3306, 3318, 3330, 3342, 3354, 3366, 3378, 3390, 3402, 3414, 3426, 3438, 3450, 3462, 3474, 3486, 3498, 3510, 3522, 3534, 3546, 3558, 3570, 3582, 3594, 3606, 3618, 3630, 3642, 3654, 3666, 3678, 3690, 3702, 3714, 3726, 3738, 3750, 3762, 3774, 3786, 3798, 3810, 3822, 3834, 3846, 3858, 3870, 3882, 3894, 3906, 3918, 3930, 3942, 3954, 3966, 3978, 3990, 4002, 4014, 4026, 4038, 4050, 4062, 4074, 4086, 4098, 4110, 4122, 4134, 4146, 4158, 4170, 4182, 4194, 4206, 4218, 4230, 4242, 4254, 4266, 4278, 4290, 4302, 4314, 4326, 4338, 4350, 4362, 4374, 4386, 4398, 4410, 4422, 4434, 4446, 4458, 4470, 4482, 4494, 4506, 4518, 4530, 4542, 4554, 4566, 4578, 4590, 4602, 4614, 4626, 4638, 4650, 4662, 4674, 4686, 4698, 4710, 4722, 4734, 4746, 4758, 4770, 4782, 4794, 4806, 4818, 4830, 4842, 4854, 4866, 4878, 4890, 4902, 4914, 4926, 4938, 4950, 4962, 4974, 4986, 4998, 5010, 5022, 5034, 5046, 5058, 5070, 5082, 5094, 5106, 5118, 5130, 5142, 5154, 5166, 5178, 5190, 5202, 5214, 5226, 5238, 5250, 5262, 5274, 5286, 5298, 5310, 5322, 5334, 5346, 5358, 5370, 5382, 5394, 5406, 5418, 5430, 5442, 5454, 5466, 5478, 5490, 5502, 5514, 5526, 5538, 5550, 5562, 5574, 5586, 5598, 5610, 5622, 5634, 5646, 5658, 5670, 5682, 5694, 5706, 5718, 5730, 5742, 5754, 5766, 5778, 5790, 5802, 5814, 5826, 5838, 5850, 5862, 5874, 5886, 5898, 5910, 5922, 5934, 5946, 5958, 5970, 5982, 5994, 6006, 6018, 6030, 6042, 6054, 6066, 6078, 6090, 6102, 6114, 6126, 6138, 6150, 6162, 6174, 6186, 6198, 6210, 6222, 6234, 6246, 6258, 6270, 6282, 6294, 6306, 6318, 6330, 6342, 6354, 6366, 6378, 6390, 6402, 6414, 6426, 6438, 6450, 6462, 6474, 6486, 6498, 6510, 6522, 6534, 6546, 6558, 6570, 6582, 6594, 6606, 6618, 6630, 6642, 6654, 6666, 6678, 6690, 6702, 6714, 6726, 6738, 6750, 6762, 6774, 6786, 6798, 6810, 6822, 6834, 6846, 6858, 6870, 6882, 6894, 6906, 6918, 6930, 6942, 6954, 6966, 6978, 6990, 7002, 7014, 7026, 7038, 7050, 7062, 7074, 7086, 7098, 7110, 7122, 7134, 7146, 7158, 7170, 7182, 7194, 7206, 7218, 7230, 7242, 7254, 7266, 7278, 7290, 7302, 7314, 7326, 7338, 7350, 7362, 7374, 7386, 7398, 7410, 7422, 7434, 7446, 7458, 7470, 7482, 7494, 7506, 7518, 7530, 7542, 7554, 7566, 7578, 7590, 7602, 7614, 7626, 7638, 7650, 7662, 7674, 7686, 7698, 7710, 7722, 7734, 7746, 7758, 7770, 7782, 7794, 7806, 7818, 7830, 7842, 7854, 7866, 7878, 7890, 7902, 7914, 7926, 7938, 7950, 7962, 7974, 7986, 7998, 8010, 8022, 8034, 8046, 8058, 8070, 8082, 8094, 8106, 8118, 8130, 8142, 8154, 8166, 8178, 8190, 8202, 8214, 8226, 8238, 8250, 8262, 8274, 8286, 8298, 8310, 8322, 8334, 8346, 8358, 8370, 8382, 8394, 8406, 8418, 8430, 8442, 8454, 8466, 8478, 8490, 8502, 8514, 8526, 8538, 8550, 8562, 8574, 8586, 8598, 8610, 8622, 8634, 8646, 8658, 8670, 8682, 8694, 8706, 8718, 8730, 8742, 8754, 8766, 8778, 8790, 8802, 8814, 8826, 8838, 8850, 8862, 8874, 8886, 8898, 8910, 8922, 8934, 8946, 8958, 8970, 8982, 8994, 9006, 9018, 9030, 9042, 9054, 9066, 9078, 9090, 9102, 9114, 9126, 9138, 9150, 9162, 9174, 9186, 9198, 9210, 9222, 9234, 9246, 9258, 9270, 9282, 9294, 9306, 9318, 9330, 9342, 9354, 9366, 9378, 9390, 9402, 9414, 9426, 9438, 9450, 9462, 9474, 9486, 9498, 9510, 9522, 9534, 9546, 9558, 9570, 9582, 9594, 9606, 9618, 9630, 9642, 9654, 9666, 9678, 9690, 9702, 9714, 9726, 9738, 9750, 9762, 9774, 9786, 9798, 9810, 9822, 9834, 9846, 9858, 9870, 9882, 9894, 9906, 9918, 9930, 9942, 9954, 9966, 9978, 9990, 10002, 10014, 10026, 10038, 10050, 10062, 10074, 10086, 10098, 10110, 10122, 10134, 10146, 10158, 10170, 10182, 10194, 10206, 10218, 10230, 10242, 10254, 10266, 10278, 10290, 10302, 10314, 10326, 10338, 10350, 10362, 10374, 10386, 10398, 10410, 10422, 10434, 10446, 10458, 10470, 10482, 10494, 10506, 10518, 10530, 10542, 10554, 10566, 10578, 10590, 10602, 10614, 10626, 10638, 10650, 10662, 10674, 10686, 10698, 10710, 10722, 10734, 10746, 10758, 10770, 10782, 10794, 10806, 10818, 10830, 10842, 10854, 10866, 10878, 10890, 10902, 10914, 10926, 10938, 10950, 10962, 10974, 10986, 10998, 11010, 11022, 11034, 11046, 11058, 11070, 11082, 11094, 11106, 11118, 11130, 11142, 11154, 11166, 11178, 11190, 11202, 11214, 11226, 11238, 11250, 11262, 11274, 11286, 11298, 11310, 11322, 11334, 11346, 11358, 11370, 11382, 11394, 11406, 11418, 11430, 11442, 11454, 11466, 11478, 11490, 11502, 11514, 11526, 11538, 11550, 11562, 11574, 11586, 11598, 11610, 11622, 11634, 11646, 11658, 11670, 11682, 11694, 11706, 11718, 11730, 11742, 11754, 11766, 11778, 11790, 11802, 11814, 11826, 11838, 11850, 11862, 11874, 11886, 11898, 11910, 11922, 11934, 11946, 11958, 11970, 11982, 11994, 12006, 12018, 12030, 12042, 12054, 12066, 12078, 12090, 12102, 12114, 12126, 12138, 12150, 12162, 12174, 12186, 12198, 12210, 12222, 12234, 12246, 12258, 12270, 12282, 12294, 12306, 12318, 12330, 12342)\n"
          ]
        }
      ],
      "source": [
        "limit = 12345\n",
        "\n",
        "# Функция для проверки условий\n",
        "# Возвращает True, если условия выполняются\n",
        "def chek(n):\n",
        "    return n**2 % 3 == 0 and n**2 % 4 == 0 and n**2 % 8 != 0\n",
        "\n",
        "# Проверяем все числа от 1 до 12345+1 на условие и формируем кортеж\n",
        "valid_numbers = tuple(n for n in range(1, limit + 1) if chek(n))\n",
        "\n",
        "print(valid_numbers)"
      ]
    },
    {
      "cell_type": "markdown",
      "metadata": {
        "id": "OZBeUyxcoBGk"
      },
      "source": [
        "## Problem 2"
      ]
    },
    {
      "cell_type": "markdown",
      "metadata": {
        "id": "zIfvg22noBGk"
      },
      "source": [
        "\n",
        "Write a function that takes a two-dimensional array and a string as input and returns an array rotated 90 degrees counterclockwise if the string 'left' was passed, and clockwise if the string 'right' was passed.\n",
        "\n",
        "Example for input: $\\begin{bmatrix} 1 & 2 & 3 \\\\ 4 & 5 & 6 \\\\ 7 & 8 & 9 \\end{bmatrix}$.\\\n",
        "If the string 'left' is passed, the function should return $\\begin{bmatrix} 3 & 6 & 9 \\\\ 2 & 5 & 8 \\\\ 1 & 4 & 7 \\end{bmatrix}$, and if the string 'right' is passed, the function should return $\\begin{bmatrix} 7 & 4 & 1 \\\\ 8 & 5 & 2 \\\\ 9 & 6 & 3 \\end{bmatrix}$."
      ]
    },
    {
      "cell_type": "code",
      "execution_count": null,
      "metadata": {
        "id": "HNvy_cRjoBGk"
      },
      "outputs": [],
      "source": [
        "def rot_matrix(matrix, direction):                          #функция поворота матрицы\n",
        "    if direction == \"left\":                                    #поворот против часовой стрелки\n",
        "        return [list(row) for row in zip(*matrix[::-1])]       #меняем порядок строк на обратный -> разбиваем матрицу на 3 отдельных списка c помощью * ->\n",
        "                                                               #объединяем элементы отдельных списков в кортежи с помощью zip -> преобразуем кортежи в списки\n",
        "    elif direction == \"right\":                                 #поворот по часовой стрелке\n",
        "        return [list(row) for row in zip(*matrix)][::-1]       #аналогично, но меняется порядок дейтсвий"
      ]
    },
    {
      "cell_type": "markdown",
      "metadata": {
        "id": "_dY-PFlCoBGk"
      },
      "source": [
        "## Problem 3"
      ]
    },
    {
      "cell_type": "markdown",
      "metadata": {
        "id": "3CaIwcm0oBGk"
      },
      "source": [
        "Write a function that takes a string as input and returns a dictionary containing the number of occurrences of each character in the string.\n",
        "\n",
        "Example for the string 'hello, world!': {'h': 1, 'e': 1, 'l': 3, 'o': 2, ',': 1, ' ': 1, 'w': 1, 'r': 1, 'd': 1, '!': 1}."
      ]
    },
    {
      "cell_type": "code",
      "execution_count": null,
      "metadata": {
        "id": "rlSbHusZoBGk"
      },
      "outputs": [],
      "source": [
        "def count(input_string):\n",
        "    char_count = {}                          #создаем пустой словарь\n",
        "    for char in input_string:\n",
        "        if char in char_count:\n",
        "            char_count[char] += 1            #если символ уже есть в словаре, увеличиваем его счетчик, обращаясь по ключу\n",
        "        else:\n",
        "            char_count[char] = 1             #счетчик впервые встретившегося символа = 1\n",
        "    return char_count"
      ]
    },
    {
      "cell_type": "markdown",
      "metadata": {
        "id": "KBGJ7PeboBGk"
      },
      "source": [
        "## Problem 4"
      ]
    },
    {
      "cell_type": "markdown",
      "metadata": {
        "id": "XS4Seqa9oBGk"
      },
      "source": [
        "### Implementing a Library Management System\n",
        "\n",
        "#### Description\n",
        "\n",
        "You are required to design and implement a system for managing books and users in a library. The system should allow for the management of books (adding, deleting, searching by various criteria) and users (registration, deletion, searching), as well as tracking the history of interactions between them (issuing and returning books).\n",
        "\n",
        "#### Tasks\n",
        "\n",
        "1. **`Book` Class**:\n",
        "   - Attributes: title, author, year of publication, ISBN, number of copies.\n",
        "   - Methods: constructor, methods to get information about the book, method to change the number of copies (when issuing and returning books).\n",
        "\n",
        "2. **`User` Class**:\n",
        "   - Attributes: user name, library card number, list of borrowed books.\n",
        "   - Methods: constructor, methods for user registration, methods for adding and removing books from the borrowed list.\n",
        "\n",
        "3. **`Library` Class**:\n",
        "   - Attributes: list of books, list of users, transaction history (who, when, which book was borrowed and returned).\n",
        "   - Methods: constructor, methods for adding and deleting books and users, methods for issuing and returning books, searching for books and users by various criteria, method to display the transaction history.\n",
        "\n",
        "#### Assignment\n",
        "\n",
        "1. Implement the `Book`, `User`, and `Library` classes with the specified attributes and methods.\n",
        "2. Create several books and users, and add them to the library system.\n",
        "3. Implement scenarios for issuing books to users and their return.\n",
        "4. Display the transaction history to show how books were issued and returned.\n"
      ]
    },
    {
      "cell_type": "code",
      "execution_count": null,
      "metadata": {
        "id": "IbqwtWWsoBGl"
      },
      "outputs": [],
      "source": [
        "class Book:\n",
        "  #конструктор\n",
        "  def __init__(self, title, author, year_of_publication, ISBN, number_of_copies):\n",
        "    self.title = title\n",
        "    self.author = author\n",
        "    self.year_of_publication = year_of_publication\n",
        "    self.ISBN = ISBN\n",
        "    self.number_of_copies = number_of_copies\n",
        "    print(f\"Book {title} created\")\n",
        "  #информация о книге\n",
        "  def get_info(self):\n",
        "    return f\"title: {self.title}, author: {self.author}, year_of_publication: {self.year_of_publication},  ISBN: {self.ISBN}, number_of_copies: {self.number_of_copie}\"\n",
        "  #изменение кол-ва эксземпляров\n",
        "  def change_copies(self, change):\n",
        "    self.number_of_copies += change\n",
        "\n",
        "\n",
        "class User:\n",
        "  #конструктор\n",
        "  def __init__(self, user_name, library_card_number):\n",
        "    self.user_name = user_name\n",
        "    self.library_card_number = library_card_number\n",
        "    self.list_of_borrowed_books = []\n",
        "    print(f\"User {user_name} created\")\n",
        "\n",
        "  #регистрация\n",
        "  def user_registration(name, card_number):\n",
        "    print(f\"User {name} with card number {card_number} registered.\")\n",
        "    return User(name, card_number)\n",
        "\n",
        "  #получение книги\n",
        "  def add(self, book):\n",
        "        if book.number_of_copies  > 0:\n",
        "            book.change_copies(-1)\n",
        "            self.list_of_borrowed_books.append(book)\n",
        "            return True\n",
        "        return False\n",
        "  #сдача книги\n",
        "  def remove_book(self, book):\n",
        "        if book in self.list_of_borrowed_books:\n",
        "            book.change_copies(1)\n",
        "            self.list_of_borrowed_books.remove(book)\n",
        "            return True\n",
        "        return False\n",
        "\n",
        "class Library:\n",
        "  #конструктор\n",
        "  def __init__(self):\n",
        "    self.list_of_books = []\n",
        "    self.list_of_users = []\n",
        "    self.transaction_history = []\n",
        "    print(\"Library created\")\n",
        "\n",
        "  #добавление/удаление книг/пользователей\n",
        "  def add_book(self, book):\n",
        "    self.list_of_books.append(book)\n",
        "\n",
        "  def delete_book(self, book):\n",
        "    if book in self.list_of_books:\n",
        "      self.list_of_books.remove(book)\n",
        "\n",
        "  def add_user(self, user):\n",
        "    self.list_of_users.append(user)\n",
        "\n",
        "  def delete_user(self, user):\n",
        "    if user in self.list_of_users:\n",
        "      self.list_of_users.remove(user)\n",
        "\n",
        "  #посик книги/пользователя\n",
        "  def search_book_by_title(self, title):\n",
        "    return [book for book in self.list_of_books if title in book.title]\n",
        "\n",
        "  def search_book_by_isbn(self, isbn):\n",
        "    return [book for book in self.list_of_books if ISBN in book.ISBN]\n",
        "\n",
        "  def search_user_by_name(self, name):\n",
        "    return [user for user in self.list_of_users if user_name in user.user_name]\n",
        "\n",
        "  #информация о приеме книги\n",
        "  def get_book(self, user, book):\n",
        "    user.remove_book(book)\n",
        "    self.transaction_history.append(f\"User {user.user_name} remove {book.title}\")\n",
        "\n",
        "  #информация о сдаче книги\n",
        "  def drop_book(self, user, book):\n",
        "    if user.add(book):\n",
        "      self.transaction_history.append(f\"User {user.user_name} add {book.title}\")\n",
        "      return True\n",
        "    return False\n",
        "\n",
        "  #история транзакций\n",
        "  def display_transaction_history(self):\n",
        "    for record in self.transaction_history:\n",
        "        print(record)"
      ]
    },
    {
      "cell_type": "code",
      "source": [
        "#сценарий\n",
        "\n",
        "#создание пользователей\n",
        "user_0 = User(\"Roman\", \"777\")\n",
        "user_1 = User(\"Nikolay\", \"001\")\n",
        "\n",
        "#создание книг\n",
        "book_0 = Book(\"War and Peace\", \"Leo Tolstoy\", 1867, \"32748956\", 2)\n",
        "book_1 = Book(\"The Brothers Karamazov\", \"Fyodor Dostoevsky\", 1880, \"238756837\", 1)\n",
        "\n",
        "#создание библиотеки\n",
        "library = Library()\n",
        "\n",
        "#добавление пользователей и книг в библиотеку\n",
        "library.add_user(user_0)\n",
        "library.add_user(user_1)\n",
        "\n",
        "library.add_book(book_0)\n",
        "library.add_book(book_1)\n",
        "\n",
        "#действие пользователей\n",
        "library.drop_book(user_0, book_1)\n",
        "library.drop_book(user_1, book_0)\n",
        "library.get_book(user_0, book_1)\n",
        "library.drop_book(user_1, book_1)\n",
        "\n",
        "#история транзакций\n",
        "library.display_transaction_history()"
      ],
      "metadata": {
        "colab": {
          "base_uri": "https://localhost:8080/"
        },
        "id": "QF3jZyRbAtB5",
        "outputId": "b9fb43b7-2dd5-4ba6-8d5a-ca1bd7838df7"
      },
      "execution_count": null,
      "outputs": [
        {
          "output_type": "stream",
          "name": "stdout",
          "text": [
            "User Roman created\n",
            "User Nikolay created\n",
            "Book War and Peace created\n",
            "Book The Brothers Karamazov created\n",
            "Library created\n",
            "User Roman add The Brothers Karamazov\n",
            "User Nikolay add War and Peace\n",
            "User Roman remove The Brothers Karamazov\n",
            "User Nikolay add The Brothers Karamazov\n"
          ]
        }
      ]
    },
    {
      "cell_type": "markdown",
      "metadata": {
        "id": "0c8zRbSIoBGl"
      },
      "source": [
        "## Problem 5*"
      ]
    },
    {
      "cell_type": "markdown",
      "metadata": {
        "id": "8ltdzRmOoBGl"
      },
      "source": [
        "Explain why list `b` changes after the execution of the following code:\n",
        "\n",
        "```python\n",
        "a = [1, 2, 3]\n",
        "b = a\n",
        "a[0] = 4\n",
        "print(b)\n",
        "```"
      ]
    },
    {
      "cell_type": "markdown",
      "metadata": {
        "id": "RxgnUfFPoBGl"
      },
      "source": [
        "Потому что b является сслыкой на лист a. При изменении a меняется и b"
      ]
    },
    {
      "cell_type": "markdown",
      "metadata": {
        "id": "Mb-amOX5oBGl"
      },
      "source": []
    },
    {
      "cell_type": "markdown",
      "metadata": {
        "id": "TmXLkc_foBGl"
      },
      "source": [
        "## Problem 6*"
      ]
    },
    {
      "cell_type": "markdown",
      "metadata": {
        "id": "Gn0ibiVCoBGl"
      },
      "source": [
        "Let\n",
        "$$A = \\sum_{i=1}^{10000} \\frac{1}{i^2},\\quad B=\\sum_{i=10000}^{1} \\frac{1}{i^2}.$$\n",
        "Calculate the values of $A$ and $B$ and compare them. What do you observe? Explain why this happens. What is the best way to calculate the value of $\\sum\\limits_{i=1}^{10000} \\dfrac{1}{i^2}$?"
      ]
    },
    {
      "cell_type": "code",
      "execution_count": null,
      "metadata": {
        "id": "3q93uGqFoBGl",
        "colab": {
          "base_uri": "https://localhost:8080/"
        },
        "outputId": "ca8378a8-e655-4a1c-f8ee-2823ae1eaf49"
      },
      "outputs": [
        {
          "output_type": "stream",
          "name": "stdout",
          "text": [
            "1.6448340718480652\n",
            "1.6448340718480596\n"
          ]
        }
      ],
      "source": [
        "a = sum(1 / i**2 for i in range(1, 10001))\n",
        "b = sum(1 / i**2 for i in range(10000, 0, -1))\n",
        "print(a)\n",
        "print(b)"
      ]
    },
    {
      "cell_type": "markdown",
      "source": [
        "Значения отиличаются из-за округления числа с плавающей точкой при подсчете суммы. В этом случае будет лучше использовать второй вариант вычисления, так как суммирование идет от наименьшего к наибольшему и маленькие числа не теряются"
      ],
      "metadata": {
        "id": "ddwk-jF3CO52"
      }
    },
    {
      "cell_type": "code",
      "source": [],
      "metadata": {
        "id": "ajGUNzIYCG_5"
      },
      "execution_count": null,
      "outputs": []
    }
  ],
  "metadata": {
    "colab": {
      "provenance": []
    },
    "kernelspec": {
      "display_name": "Python 3",
      "language": "python",
      "name": "python3"
    },
    "language_info": {
      "codemirror_mode": {
        "name": "ipython",
        "version": 3
      },
      "file_extension": ".py",
      "mimetype": "text/x-python",
      "name": "python",
      "nbconvert_exporter": "python",
      "pygments_lexer": "ipython3",
      "version": "3.10.6"
    }
  },
  "nbformat": 4,
  "nbformat_minor": 0
}